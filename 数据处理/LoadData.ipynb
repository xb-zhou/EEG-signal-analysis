{
 "cells": [
  {
   "cell_type": "markdown",
   "metadata": {},
   "source": [
    "# 加载数据"
   ]
  },
  {
   "cell_type": "code",
   "execution_count": 1,
   "metadata": {},
   "outputs": [],
   "source": [
    "import mne \n",
    "import csv\n",
    "import pyedflib\n",
    "import numpy as np\n",
    "import scipy.io as sio"
   ]
  },
  {
   "cell_type": "code",
   "execution_count": 2,
   "metadata": {},
   "outputs": [],
   "source": [
    "DataSetFolder = \"DataSet/\"\n",
    "DataSetFile = \"S001R01.edf\""
   ]
  },
  {
   "cell_type": "code",
   "execution_count": 3,
   "metadata": {},
   "outputs": [
    {
     "name": "stdout",
     "output_type": "stream",
     "text": [
      "Extracting EDF parameters from /home/xiaobo/Documents/1 Pretreatment/DataSet/S001R01.edf...\n",
      "EDF file detected\n",
      "Setting channel info structure...\n",
      "Creating raw.info structure...\n",
      "Reading 0 ... 9759  =      0.000 ...    60.994 secs...\n",
      "<Info | 7 non-empty values\n",
      " bads: []\n",
      " ch_names: Fc5., Fc3., Fc1., Fcz., Fc2., Fc4., Fc6., C5.., C3.., C1.., ...\n",
      " chs: 64 EEG\n",
      " custom_ref_applied: False\n",
      " highpass: 0.0 Hz\n",
      " lowpass: 80.0 Hz\n",
      " meas_date: 2009-08-12 16:15:00 UTC\n",
      " nchan: 64\n",
      " projs: []\n",
      " sfreq: 160.0 Hz\n",
      ">\n"
     ]
    }
   ],
   "source": [
    "# 使用mne读取数据\n",
    "Raw = mne.io.read_raw_edf(DataSetFolder+DataSetFile, preload=True)\n",
    "\n",
    "# 显示数据的属性\n",
    "print(Raw.info)"
   ]
  },
  {
   "cell_type": "code",
   "execution_count": 4,
   "metadata": {},
   "outputs": [
    {
     "name": "stdout",
     "output_type": "stream",
     "text": [
      "['Fc5.', 'Fc3.', 'Fc1.', 'Fcz.', 'Fc2.', 'Fc4.', 'Fc6.', 'C5..', 'C3..', 'C1..', 'Cz..', 'C2..', 'C4..', 'C6..', 'Cp5.', 'Cp3.', 'Cp1.', 'Cpz.', 'Cp2.', 'Cp4.', 'Cp6.', 'Fp1.', 'Fpz.', 'Fp2.', 'Af7.', 'Af3.', 'Afz.', 'Af4.', 'Af8.', 'F7..', 'F5..', 'F3..', 'F1..', 'Fz..', 'F2..', 'F4..', 'F6..', 'F8..', 'Ft7.', 'Ft8.', 'T7..', 'T8..', 'T9..', 'T10.', 'Tp7.', 'Tp8.', 'P7..', 'P5..', 'P3..', 'P1..', 'Pz..', 'P2..', 'P4..', 'P6..', 'P8..', 'Po7.', 'Po3.', 'Poz.', 'Po4.', 'Po8.', 'O1..', 'Oz..', 'O2..', 'Iz..']\n",
      "通道C3..采样频率:160Hz, 采样时长:61s, 采样点数：9760, 采样时间:2009-08-12 16:15:00\n"
     ]
    }
   ],
   "source": [
    "# 使用pyedflib读取数据\n",
    "Raw.close()\n",
    "Raw = pyedflib.EdfReader(DataSetFolder+DataSetFile)\n",
    "\n",
    "# 显示所有通道的名称\n",
    "print(Raw.getSignalLabels())\n",
    "\n",
    "#显示特点通道的属性\n",
    "print('通道{}采样频率:{}Hz, 采样时长:{}s, 采样点数：{}, 采样时间:{}'\n",
    "      .format(Raw.getLabel(8), \n",
    "              Raw.getSampleFrequency(8), \n",
    "              Raw.getFileDuration(), \n",
    "              Raw.getSampleFrequency(8)*Raw.getFileDuration(), \n",
    "              Raw.getStartdatetime()))\n",
    "C3 = Raw.readSignal(8)\n",
    "C4 = Raw.readSignal(12)\n",
    "\n",
    "#关闭文件\n",
    "Raw.close()"
   ]
  }
 ],
 "metadata": {
  "kernelspec": {
   "display_name": "Python 3",
   "language": "python",
   "name": "python3"
  },
  "language_info": {
   "codemirror_mode": {
    "name": "ipython",
    "version": 3
   },
   "file_extension": ".py",
   "mimetype": "text/x-python",
   "name": "python",
   "nbconvert_exporter": "python",
   "pygments_lexer": "ipython3",
   "version": "3.8.2"
  }
 },
 "nbformat": 4,
 "nbformat_minor": 4
}
